{
 "cells": [
  {
   "cell_type": "code",
   "execution_count": 7,
   "metadata": {},
   "outputs": [],
   "source": [
    "import os\n",
    "import json\n",
    "import random\n",
    "from functools import partial\n",
    "\n",
    "import numpy as np\n",
    "import matplotlib.pyplot as plt\n",
    "\n",
    "import pandas as pd\n",
    "from PIL import Image\n",
    "\n",
    "import cv2\n",
    "\n",
    "from sklearn.experimental import enable_halving_search_cv\n",
    "\n",
    "from sklearn.svm import SVC\n",
    "from sklearn.ensemble import RandomForestClassifier\n",
    "from sklearn.neighbors import KNeighborsClassifier\n",
    "\n",
    "\n",
    "\n",
    "from sklearn.model_selection import (train_test_split,cross_val_predict,cross_val_score\n",
    "                                     ,RandomizedSearchCV,GridSearchCV,HalvingGridSearchCV,HalvingRandomSearchCV)\n",
    "from sklearn.preprocessing import StandardScaler,OrdinalEncoder\n",
    "\n",
    "from sklearn.metrics import (f1_score,precision_recall_curve,precision_score\n",
    "                             ,recall_score,ConfusionMatrixDisplay,accuracy_score)\n",
    "\n",
    "from plyer import notification\n",
    "from discord import SyncWebhook\n",
    "\n",
    "\n",
    "import imgaug.augmenters as imaug\n",
    "\n",
    "import tensorflow as tf\n"
   ]
  },
  {
   "cell_type": "code",
   "execution_count": 8,
   "metadata": {},
   "outputs": [],
   "source": [
    "def alert(data=\"Execution Completed\"):\n",
    "    notification.notify(\n",
    "    title = \"Python\",\n",
    "    message = data,\n",
    "    timeout = 10\n",
    "    )\n",
    "    "
   ]
  },
  {
   "cell_type": "code",
   "execution_count": 9,
   "metadata": {},
   "outputs": [
    {
     "data": {
      "text/plain": [
       "['angry', 'disgusted', 'fearful', 'happy', 'neutral', 'sad', 'surprised']"
      ]
     },
     "execution_count": 9,
     "metadata": {},
     "output_type": "execute_result"
    }
   ],
   "source": [
    "test_dir = \"dataset/test/\"\n",
    "train_dir = \"dataset/train/\"\n",
    "\n",
    "classes = os.listdir(train_dir)\n",
    "classes"
   ]
  },
  {
   "cell_type": "code",
   "execution_count": 10,
   "metadata": {},
   "outputs": [],
   "source": [
    "def augument(data):\n",
    "    final_img = []\n",
    "    \n",
    "    final_img.append(data)\n",
    "    \n",
    "    augmentation = imaug.Sequential([\n",
    "        imaug.Affine(translate_percent={\"x\": (0.45, -0.45), \"y\": (-0.2, 0.2)},scale=(0.8,0.8)),\n",
    "    ])\n",
    "    a = augmentation(images = [data])\n",
    "    final_img.append(a[0])\n",
    "    \n",
    "    augmentation = imaug.Sequential([\n",
    "        imaug.Affine(scale=(0.8, 0.8),rotate=(45,45)),\n",
    "    ])\n",
    "    a = augmentation(images = [data])\n",
    "    final_img.append(a[0])\n",
    "\n",
    "    augmentation = imaug.Sequential([\n",
    "        imaug.Affine(scale=(0.8, 0.8),rotate=(45,45)),\n",
    "        imaug.Fliplr(1)\n",
    "    ])\n",
    "    a = augmentation(images = [data])\n",
    "    final_img.append(a[0])\n",
    "    \n",
    "    # augmentation = imaug.Sequential([\n",
    "    #     imaug.Affine(scale=(0.8, 0.8),rotate=(45,45)),\n",
    "    #     imaug.Fliplr(1),\n",
    "    #     imaug.Flipud(1)\n",
    "        \n",
    "    # ])\n",
    "    # a = augmentation(images = [data])\n",
    "    # final_img.append(a[0])\n",
    "    \n",
    "    # augmentation = imaug.Sequential([\n",
    "    #     imaug.Affine(scale=(0.8, 0.8),rotate=(45,45)),\n",
    "    #     imaug.Fliplr(0),\n",
    "    #     imaug.Flipud(1)\n",
    "        \n",
    "    # ])\n",
    "    # a = augmentation(images = [data])\n",
    "    # final_img.append(a[0])\n",
    "    \n",
    "    augmentation = imaug.Sequential([\n",
    "        imaug.Affine(scale=(0.8, 0.8)),\n",
    "        \n",
    "    ])\n",
    "    a = augmentation(images = [data])\n",
    "    final_img.append(a[0])\n",
    "    \n",
    "    \n",
    "    # augmentation = imaug.Sequential([\n",
    "    #     imaug.Affine(scale=(0.8, 0.8)),\n",
    "    #     imaug.Flipud(1),\n",
    "    #     imaug.Fliplr(1),\n",
    "    # ])\n",
    "    # a = augmentation(images = [data])\n",
    "    # final_img.append(a[0])\n",
    "        \n",
    "    \n",
    "    return final_img"
   ]
  },
  {
   "cell_type": "code",
   "execution_count": 11,
   "metadata": {},
   "outputs": [
    {
     "name": "stdout",
     "output_type": "stream",
     "text": [
      "{'angry': 3995}\n",
      "{'disgusted': 2180}\n",
      "{'fearful': 4097}\n",
      "{'happy': 7215}\n",
      "{'neutral': 4965}\n",
      "{'sad': 4830}\n",
      "{'surprised': 3171}\n",
      "(30453, 48, 48)\n"
     ]
    }
   ],
   "source": [
    "x_train = []\n",
    "y_train = []\n",
    "\n",
    "encoded_classes = [i for i in range(len(classes))]\n",
    "\n",
    "\n",
    "count = 0\n",
    "inc_count = 0\n",
    "\n",
    "for i in range(len(classes)):\n",
    "    datalist = os.listdir(train_dir+classes[i])\n",
    "    \n",
    "    if (len(datalist) > 500):\n",
    "        rand = random.sample(range(0,len(datalist)),500)\n",
    "        \n",
    "    for j in datalist:\n",
    "        data = np.asarray(Image.open(train_dir+classes[i]+\"/\"+j))\n",
    "        if (i==1):   \n",
    "            aug_data = augument(data)\n",
    "            for k in aug_data:\n",
    "                data_norm = cv2.normalize(k,None,0,1,cv2.NORM_MINMAX,dtype=cv2.CV_32F)\n",
    "                x_train.append(data_norm)\n",
    "                y_train.append(encoded_classes[i])\n",
    "                count += 1\n",
    "                \n",
    "        elif (i in [0,2]):\n",
    "            if (inc_count not in rand):\n",
    "                data_norm = cv2.normalize(data,None,0,1,cv2.NORM_MINMAX,dtype=cv2.CV_32F)\n",
    "                x_train.append(data_norm)\n",
    "                y_train.append(encoded_classes[i])\n",
    "                count += 1\n",
    "                inc_count += 1\n",
    "                \n",
    "            else:\n",
    "                augmentation = imaug.Sequential([\n",
    "                    imaug.Affine(scale=(0.8, 0.8)),\n",
    "                    \n",
    "                ])\n",
    "                aug_data = augmentation(images = [data])\n",
    "                \n",
    "                for k in aug_data:\n",
    "                    data_norm = cv2.normalize(k,None,0,1,cv2.NORM_MINMAX,dtype=cv2.CV_32F)\n",
    "                    x_train.append(data_norm)\n",
    "                    y_train.append(encoded_classes[i])\n",
    "                    count += 1\n",
    "                    inc_count += 1      \n",
    "                \n",
    "        else:\n",
    "            data_norm = cv2.normalize(data,None,0,1,cv2.NORM_MINMAX,dtype=cv2.CV_32F)\n",
    "            x_train.append(data_norm)\n",
    "            y_train.append(encoded_classes[i])\n",
    "            count += 1\n",
    "            \n",
    "            \n",
    "    print({classes[i]: count})\n",
    "    count = 0\n",
    "    inc_count = 0\n",
    "\n",
    "x_train = np.array(x_train)\n",
    "y_train = np.array(y_train)\n",
    "\n",
    "print(x_train.shape)\n"
   ]
  },
  {
   "cell_type": "code",
   "execution_count": 12,
   "metadata": {},
   "outputs": [],
   "source": [
    "def image_show(img):\n",
    "    data = img\n",
    "    plt.imshow(cv2.cvtColor(data,cv2.COLOR_BGR2RGB))\n",
    "    plt.show()"
   ]
  },
  {
   "cell_type": "code",
   "execution_count": 13,
   "metadata": {},
   "outputs": [
    {
     "data": {
      "image/png": "[encoded data removed]",
      "text/plain": [
       "<Figure size 640x480 with 1 Axes>"
      ]
     },
     "metadata": {},
     "output_type": "display_data"
    },
    {
     "name": "stdout",
     "output_type": "stream",
     "text": [
      "1324\n"
     ]
    }
   ],
   "source": [
    "image_show(x_train[1])\n",
    "print(x_train[0].argmax())"
   ]
  },
  {
   "cell_type": "code",
   "execution_count": 14,
   "metadata": {},
   "outputs": [],
   "source": [
    "x_train,x_test,y_train,y_test = train_test_split(x_train,y_train,test_size=0.1,random_state=30)"
   ]
  },
  {
   "cell_type": "code",
   "execution_count": 15,
   "metadata": {},
   "outputs": [
    {
     "name": "stdout",
     "output_type": "stream",
     "text": [
      "(27407, 48, 48)\n",
      "(27407,)\n",
      "(3046, 48, 48)\n",
      "(3046,)\n"
     ]
    }
   ],
   "source": [
    "print(x_train.shape)\n",
    "print(y_train.shape)\n",
    "print(x_test.shape)\n",
    "print(y_test.shape)"
   ]
  },
  {
   "cell_type": "code",
   "execution_count": 16,
   "metadata": {},
   "outputs": [],
   "source": [
    "# webhook = SyncWebhook.from_url(\"https://discord.com/api/webhooks/1063122746835472466/QWFwQkRFXRtRLa0j21nvMl2D7qQooBs3OiAun2SEwlwSFf0UegILx4SXKxKQ_Gq7FjEr\")\n",
    "# webhook.send(f\"Execution Complete => Precision_score - {pres_score}\")\n",
    "\n",
    "# alert(f\"Execution Complete => Precision_score - {pres_score}\")"
   ]
  },
  {
   "cell_type": "code",
   "execution_count": 17,
   "metadata": {},
   "outputs": [],
   "source": [
    "# for i in range(len(classes)):\n",
    "#     datalist = os.listdir(train_dir+classes[i])\n",
    "#     for j in datalist:\n",
    "#         count += 1\n",
    "#     # print({classes[i]: count})\n",
    "#     # count = 0\n",
    "    \n",
    "# print(count)\n",
    "        "
   ]
  },
  {
   "cell_type": "code",
   "execution_count": 18,
   "metadata": {},
   "outputs": [
    {
     "name": "stdout",
     "output_type": "stream",
     "text": [
      "['angry', 'disgusted', 'fearful', 'happy', 'neutral', 'sad', 'surprised']\n"
     ]
    }
   ],
   "source": [
    "print(classes)"
   ]
  },
  {
   "cell_type": "code",
   "execution_count": 19,
   "metadata": {},
   "outputs": [],
   "source": [
    "# model = tf.keras.Sequential([\n",
    "#     tf.keras.layers.Flatten(input_shape = [48,48]),\n",
    "\n",
    "#     tf.keras.layers.Dense(400,activation=\"elu\",kernel_initializer='he_normal'),\n",
    "#     tf.keras.layers.Dropout(rate=0.3),\n",
    "    \n",
    "#     tf.keras.layers.Dense(300,activation=\"elu\",kernel_initializer='he_normal'),\n",
    "#     tf.keras.layers.Dropout(rate=0.3),\n",
    "    \n",
    "#     tf.keras.layers.Dense(200,activation=\"elu\",kernel_initializer='he_normal'),\n",
    "#     tf.keras.layers.Dropout(rate=0.3),\n",
    "    \n",
    "#     tf.keras.layers.Dense(7,activation=\"softmax\")\n",
    "# ])"
   ]
  },
  {
   "cell_type": "code",
   "execution_count": 21,
   "metadata": {},
   "outputs": [],
   "source": [
    "ConvLayer = partial(tf.keras.layers.Conv2D, kernel_size=3, padding=\"same\", \n",
    "                    activation=\"relu\", kernel_initializer=\"he_normal\")\n",
    "\n",
    "model = tf.keras.Sequential([\n",
    "    \n",
    "    ConvLayer(filters=64,kernel_size=7,input_shape=[48,48,1]),\n",
    "    tf.keras.layers.MaxPool2D(),\n",
    "    \n",
    "    ConvLayer(filters=128),\n",
    "    ConvLayer(filters=128),\n",
    "    tf.keras.layers.MaxPool2D(),\n",
    "    \n",
    "    ConvLayer(filters=256),\n",
    "    ConvLayer(filters=256),\n",
    "    tf.keras.layers.MaxPool2D(),\n",
    "    \n",
    "    tf.keras.layers.Flatten(),\n",
    "    \n",
    "    tf.keras.layers.Dense(units=128, activation=\"relu\", kernel_initializer=\"he_normal\"),\n",
    "    tf.keras.layers.Dropout(0.4),\n",
    "    \n",
    "    tf.keras.layers.Dense(units=64, activation=\"relu\", kernel_initializer=\"he_normal\"),\n",
    "    tf.keras.layers.Dropout(0.4),\n",
    "    \n",
    "    tf.keras.layers.Dense(units=7, activation=\"softmax\")\n",
    "\n",
    "])"
   ]
  },
  {
   "cell_type": "code",
   "execution_count": 22,
   "metadata": {},
   "outputs": [
    {
     "name": "stdout",
     "output_type": "stream",
     "text": [
      "Model: \"sequential_1\"\n",
      "_________________________________________________________________\n",
      " Layer (type)                Output Shape              Param #   \n",
      "=================================================================\n",
      " conv2d_1 (Conv2D)           (None, 48, 48, 64)        3200      \n",
      "                                                                 \n",
      " max_pooling2d_1 (MaxPooling  (None, 24, 24, 64)       0         \n",
      " 2D)                                                             \n",
      "                                                                 \n",
      " conv2d_2 (Conv2D)           (None, 24, 24, 128)       73856     \n",
      "                                                                 \n",
      " conv2d_3 (Conv2D)           (None, 24, 24, 128)       147584    \n",
      "                                                                 \n",
      " max_pooling2d_2 (MaxPooling  (None, 12, 12, 128)      0         \n",
      " 2D)                                                             \n",
      "                                                                 \n",
      " conv2d_4 (Conv2D)           (None, 12, 12, 256)       295168    \n",
      "                                                                 \n",
      " conv2d_5 (Conv2D)           (None, 12, 12, 256)       590080    \n",
      "                                                                 \n",
      " max_pooling2d_3 (MaxPooling  (None, 6, 6, 256)        0         \n",
      " 2D)                                                             \n",
      "                                                                 \n",
      " flatten_1 (Flatten)         (None, 9216)              0         \n",
      "                                                                 \n",
      " dense_4 (Dense)             (None, 128)               1179776   \n",
      "                                                                 \n",
      " dropout_3 (Dropout)         (None, 128)               0         \n",
      "                                                                 \n",
      " dense_5 (Dense)             (None, 64)                8256      \n",
      "                                                                 \n",
      " dropout_4 (Dropout)         (None, 64)                0         \n",
      "                                                                 \n",
      " dense_6 (Dense)             (None, 7)                 455       \n",
      "                                                                 \n",
      "=================================================================\n",
      "Total params: 2,298,375\n",
      "Trainable params: 2,298,375\n",
      "Non-trainable params: 0\n",
      "_________________________________________________________________\n"
     ]
    }
   ],
   "source": [
    "model.summary()"
   ]
  },
  {
   "cell_type": "code",
   "execution_count": 23,
   "metadata": {},
   "outputs": [],
   "source": [
    "# optimizers = tf.keras.optimizers.SGD(learning_rate=0.001,momentum=0.9)\n",
    "\n",
    "model.compile(loss=\"sparse_categorical_crossentropy\",optimizer=\"adam\" ,metrics=[\"accuracy\"])"
   ]
  },
  {
   "cell_type": "code",
   "execution_count": 24,
   "metadata": {},
   "outputs": [
    {
     "name": "stdout",
     "output_type": "stream",
     "text": [
      "Epoch 1/30\n",
      "814/814 [==============================] - 212s 258ms/step - loss: 1.7598 - accuracy: 0.2850 - val_loss: 1.5731 - val_accuracy: 0.3705\n",
      "Epoch 2/30\n",
      "814/814 [==============================] - 209s 256ms/step - loss: 1.5611 - accuracy: 0.3853 - val_loss: 1.4307 - val_accuracy: 0.4340\n",
      "Epoch 3/30\n",
      "814/814 [==============================] - 205s 252ms/step - loss: 1.4426 - accuracy: 0.4367 - val_loss: 1.3790 - val_accuracy: 0.4551\n",
      "Epoch 4/30\n",
      "814/814 [==============================] - 201s 246ms/step - loss: 1.3709 - accuracy: 0.4677 - val_loss: 1.2994 - val_accuracy: 0.4792\n",
      "Epoch 5/30\n",
      "814/814 [==============================] - 207s 255ms/step - loss: 1.3073 - accuracy: 0.4948 - val_loss: 1.2687 - val_accuracy: 0.5040\n",
      "Epoch 6/30\n",
      "814/814 [==============================] - 210s 258ms/step - loss: 1.2479 - accuracy: 0.5132 - val_loss: 1.2230 - val_accuracy: 0.5179\n",
      "Epoch 7/30\n",
      "814/814 [==============================] - 203s 249ms/step - loss: 1.1983 - accuracy: 0.5389 - val_loss: 1.2158 - val_accuracy: 0.5325\n",
      "Epoch 8/30\n",
      "814/814 [==============================] - 212s 261ms/step - loss: 1.1373 - accuracy: 0.5623 - val_loss: 1.1882 - val_accuracy: 0.5398\n",
      "Epoch 9/30\n",
      "814/814 [==============================] - 207s 254ms/step - loss: 1.0948 - accuracy: 0.5769 - val_loss: 1.1811 - val_accuracy: 0.5405\n",
      "Epoch 10/30\n",
      "814/814 [==============================] - 202s 249ms/step - loss: 1.0477 - accuracy: 0.6002 - val_loss: 1.1934 - val_accuracy: 0.5536\n",
      "Epoch 11/30\n",
      "814/814 [==============================] - 202s 248ms/step - loss: 0.9850 - accuracy: 0.6248 - val_loss: 1.2013 - val_accuracy: 0.5514\n",
      "Epoch 12/30\n",
      "814/814 [==============================] - 201s 248ms/step - loss: 0.9342 - accuracy: 0.6444 - val_loss: 1.1857 - val_accuracy: 0.5718\n",
      "Epoch 13/30\n",
      "814/814 [==============================] - 203s 249ms/step - loss: 0.8882 - accuracy: 0.6634 - val_loss: 1.2035 - val_accuracy: 0.5660\n",
      "Epoch 14/30\n",
      "814/814 [==============================] - 200s 246ms/step - loss: 0.8402 - accuracy: 0.6845 - val_loss: 1.2031 - val_accuracy: 0.5784\n",
      "Epoch 15/30\n",
      "814/814 [==============================] - 202s 248ms/step - loss: 0.7900 - accuracy: 0.7043 - val_loss: 1.3214 - val_accuracy: 0.5697\n",
      "Epoch 16/30\n",
      "814/814 [==============================] - 212s 261ms/step - loss: 0.7480 - accuracy: 0.7205 - val_loss: 1.3125 - val_accuracy: 0.5718\n",
      "Epoch 17/30\n",
      "115/814 [===>..........................] - ETA: 3:11 - loss: 0.7058 - accuracy: 0.7413"
     ]
    },
    {
     "ename": "KeyboardInterrupt",
     "evalue": "",
     "output_type": "error",
     "traceback": [
      "\u001b[1;31m---------------------------------------------------------------------------\u001b[0m",
      "\u001b[1;31mKeyboardInterrupt\u001b[0m                         Traceback (most recent call last)",
      "Cell \u001b[1;32mIn[24], line 1\u001b[0m\n\u001b[1;32m----> 1\u001b[0m history \u001b[38;5;241m=\u001b[39m \u001b[43mmodel\u001b[49m\u001b[38;5;241;43m.\u001b[39;49m\u001b[43mfit\u001b[49m\u001b[43m(\u001b[49m\u001b[43mx_train\u001b[49m\u001b[43m,\u001b[49m\u001b[43my_train\u001b[49m\u001b[43m,\u001b[49m\u001b[43mepochs\u001b[49m\u001b[38;5;241;43m=\u001b[39;49m\u001b[38;5;241;43m30\u001b[39;49m\u001b[43m,\u001b[49m\u001b[43mvalidation_split\u001b[49m\u001b[38;5;241;43m=\u001b[39;49m\u001b[38;5;241;43m0.05\u001b[39;49m\u001b[43m)\u001b[49m\n",
      "File \u001b[1;32mc:\\Users\\Celestial\\AppData\\Local\\Programs\\Python\\Python310\\lib\\site-packages\\keras\\utils\\traceback_utils.py:65\u001b[0m, in \u001b[0;36mfilter_traceback.<locals>.error_handler\u001b[1;34m(*args, **kwargs)\u001b[0m\n\u001b[0;32m     63\u001b[0m filtered_tb \u001b[39m=\u001b[39m \u001b[39mNone\u001b[39;00m\n\u001b[0;32m     64\u001b[0m \u001b[39mtry\u001b[39;00m:\n\u001b[1;32m---> 65\u001b[0m     \u001b[39mreturn\u001b[39;00m fn(\u001b[39m*\u001b[39margs, \u001b[39m*\u001b[39m\u001b[39m*\u001b[39mkwargs)\n\u001b[0;32m     66\u001b[0m \u001b[39mexcept\u001b[39;00m \u001b[39mException\u001b[39;00m \u001b[39mas\u001b[39;00m e:\n\u001b[0;32m     67\u001b[0m     filtered_tb \u001b[39m=\u001b[39m _process_traceback_frames(e\u001b[39m.\u001b[39m__traceback__)\n",
      "File \u001b[1;32mc:\\Users\\Celestial\\AppData\\Local\\Programs\\Python\\Python310\\lib\\site-packages\\keras\\engine\\training.py:1564\u001b[0m, in \u001b[0;36mModel.fit\u001b[1;34m(self, x, y, batch_size, epochs, verbose, callbacks, validation_split, validation_data, shuffle, class_weight, sample_weight, initial_epoch, steps_per_epoch, validation_steps, validation_batch_size, validation_freq, max_queue_size, workers, use_multiprocessing)\u001b[0m\n\u001b[0;32m   1556\u001b[0m \u001b[39mwith\u001b[39;00m tf\u001b[39m.\u001b[39mprofiler\u001b[39m.\u001b[39mexperimental\u001b[39m.\u001b[39mTrace(\n\u001b[0;32m   1557\u001b[0m     \u001b[39m\"\u001b[39m\u001b[39mtrain\u001b[39m\u001b[39m\"\u001b[39m,\n\u001b[0;32m   1558\u001b[0m     epoch_num\u001b[39m=\u001b[39mepoch,\n\u001b[1;32m   (...)\u001b[0m\n\u001b[0;32m   1561\u001b[0m     _r\u001b[39m=\u001b[39m\u001b[39m1\u001b[39m,\n\u001b[0;32m   1562\u001b[0m ):\n\u001b[0;32m   1563\u001b[0m     callbacks\u001b[39m.\u001b[39mon_train_batch_begin(step)\n\u001b[1;32m-> 1564\u001b[0m     tmp_logs \u001b[39m=\u001b[39m \u001b[39mself\u001b[39;49m\u001b[39m.\u001b[39;49mtrain_function(iterator)\n\u001b[0;32m   1565\u001b[0m     \u001b[39mif\u001b[39;00m data_handler\u001b[39m.\u001b[39mshould_sync:\n\u001b[0;32m   1566\u001b[0m         context\u001b[39m.\u001b[39masync_wait()\n",
      "File \u001b[1;32mc:\\Users\\Celestial\\AppData\\Local\\Programs\\Python\\Python310\\lib\\site-packages\\tensorflow\\python\\util\\traceback_utils.py:150\u001b[0m, in \u001b[0;36mfilter_traceback.<locals>.error_handler\u001b[1;34m(*args, **kwargs)\u001b[0m\n\u001b[0;32m    148\u001b[0m filtered_tb \u001b[39m=\u001b[39m \u001b[39mNone\u001b[39;00m\n\u001b[0;32m    149\u001b[0m \u001b[39mtry\u001b[39;00m:\n\u001b[1;32m--> 150\u001b[0m   \u001b[39mreturn\u001b[39;00m fn(\u001b[39m*\u001b[39margs, \u001b[39m*\u001b[39m\u001b[39m*\u001b[39mkwargs)\n\u001b[0;32m    151\u001b[0m \u001b[39mexcept\u001b[39;00m \u001b[39mException\u001b[39;00m \u001b[39mas\u001b[39;00m e:\n\u001b[0;32m    152\u001b[0m   filtered_tb \u001b[39m=\u001b[39m _process_traceback_frames(e\u001b[39m.\u001b[39m__traceback__)\n",
      "File \u001b[1;32mc:\\Users\\Celestial\\AppData\\Local\\Programs\\Python\\Python310\\lib\\site-packages\\tensorflow\\python\\eager\\def_function.py:915\u001b[0m, in \u001b[0;36mFunction.__call__\u001b[1;34m(self, *args, **kwds)\u001b[0m\n\u001b[0;32m    912\u001b[0m compiler \u001b[39m=\u001b[39m \u001b[39m\"\u001b[39m\u001b[39mxla\u001b[39m\u001b[39m\"\u001b[39m \u001b[39mif\u001b[39;00m \u001b[39mself\u001b[39m\u001b[39m.\u001b[39m_jit_compile \u001b[39melse\u001b[39;00m \u001b[39m\"\u001b[39m\u001b[39mnonXla\u001b[39m\u001b[39m\"\u001b[39m\n\u001b[0;32m    914\u001b[0m \u001b[39mwith\u001b[39;00m OptionalXlaContext(\u001b[39mself\u001b[39m\u001b[39m.\u001b[39m_jit_compile):\n\u001b[1;32m--> 915\u001b[0m   result \u001b[39m=\u001b[39m \u001b[39mself\u001b[39m\u001b[39m.\u001b[39m_call(\u001b[39m*\u001b[39margs, \u001b[39m*\u001b[39m\u001b[39m*\u001b[39mkwds)\n\u001b[0;32m    917\u001b[0m new_tracing_count \u001b[39m=\u001b[39m \u001b[39mself\u001b[39m\u001b[39m.\u001b[39mexperimental_get_tracing_count()\n\u001b[0;32m    918\u001b[0m without_tracing \u001b[39m=\u001b[39m (tracing_count \u001b[39m==\u001b[39m new_tracing_count)\n",
      "File \u001b[1;32mc:\\Users\\Celestial\\AppData\\Local\\Programs\\Python\\Python310\\lib\\site-packages\\tensorflow\\python\\eager\\def_function.py:947\u001b[0m, in \u001b[0;36mFunction._call\u001b[1;34m(self, *args, **kwds)\u001b[0m\n\u001b[0;32m    944\u001b[0m   \u001b[39mself\u001b[39m\u001b[39m.\u001b[39m_lock\u001b[39m.\u001b[39mrelease()\n\u001b[0;32m    945\u001b[0m   \u001b[39m# In this case we have created variables on the first call, so we run the\u001b[39;00m\n\u001b[0;32m    946\u001b[0m   \u001b[39m# defunned version which is guaranteed to never create variables.\u001b[39;00m\n\u001b[1;32m--> 947\u001b[0m   \u001b[39mreturn\u001b[39;00m \u001b[39mself\u001b[39m\u001b[39m.\u001b[39m_stateless_fn(\u001b[39m*\u001b[39margs, \u001b[39m*\u001b[39m\u001b[39m*\u001b[39mkwds)  \u001b[39m# pylint: disable=not-callable\u001b[39;00m\n\u001b[0;32m    948\u001b[0m \u001b[39melif\u001b[39;00m \u001b[39mself\u001b[39m\u001b[39m.\u001b[39m_stateful_fn \u001b[39mis\u001b[39;00m \u001b[39mnot\u001b[39;00m \u001b[39mNone\u001b[39;00m:\n\u001b[0;32m    949\u001b[0m   \u001b[39m# Release the lock early so that multiple threads can perform the call\u001b[39;00m\n\u001b[0;32m    950\u001b[0m   \u001b[39m# in parallel.\u001b[39;00m\n\u001b[0;32m    951\u001b[0m   \u001b[39mself\u001b[39m\u001b[39m.\u001b[39m_lock\u001b[39m.\u001b[39mrelease()\n",
      "File \u001b[1;32mc:\\Users\\Celestial\\AppData\\Local\\Programs\\Python\\Python310\\lib\\site-packages\\tensorflow\\python\\eager\\function.py:2496\u001b[0m, in \u001b[0;36mFunction.__call__\u001b[1;34m(self, *args, **kwargs)\u001b[0m\n\u001b[0;32m   2493\u001b[0m \u001b[39mwith\u001b[39;00m \u001b[39mself\u001b[39m\u001b[39m.\u001b[39m_lock:\n\u001b[0;32m   2494\u001b[0m   (graph_function,\n\u001b[0;32m   2495\u001b[0m    filtered_flat_args) \u001b[39m=\u001b[39m \u001b[39mself\u001b[39m\u001b[39m.\u001b[39m_maybe_define_function(args, kwargs)\n\u001b[1;32m-> 2496\u001b[0m \u001b[39mreturn\u001b[39;00m graph_function\u001b[39m.\u001b[39;49m_call_flat(\n\u001b[0;32m   2497\u001b[0m     filtered_flat_args, captured_inputs\u001b[39m=\u001b[39;49mgraph_function\u001b[39m.\u001b[39;49mcaptured_inputs)\n",
      "File \u001b[1;32mc:\\Users\\Celestial\\AppData\\Local\\Programs\\Python\\Python310\\lib\\site-packages\\tensorflow\\python\\eager\\function.py:1862\u001b[0m, in \u001b[0;36mConcreteFunction._call_flat\u001b[1;34m(self, args, captured_inputs, cancellation_manager)\u001b[0m\n\u001b[0;32m   1858\u001b[0m possible_gradient_type \u001b[39m=\u001b[39m gradients_util\u001b[39m.\u001b[39mPossibleTapeGradientTypes(args)\n\u001b[0;32m   1859\u001b[0m \u001b[39mif\u001b[39;00m (possible_gradient_type \u001b[39m==\u001b[39m gradients_util\u001b[39m.\u001b[39mPOSSIBLE_GRADIENT_TYPES_NONE\n\u001b[0;32m   1860\u001b[0m     \u001b[39mand\u001b[39;00m executing_eagerly):\n\u001b[0;32m   1861\u001b[0m   \u001b[39m# No tape is watching; skip to running the function.\u001b[39;00m\n\u001b[1;32m-> 1862\u001b[0m   \u001b[39mreturn\u001b[39;00m \u001b[39mself\u001b[39m\u001b[39m.\u001b[39m_build_call_outputs(\u001b[39mself\u001b[39;49m\u001b[39m.\u001b[39;49m_inference_function\u001b[39m.\u001b[39;49mcall(\n\u001b[0;32m   1863\u001b[0m       ctx, args, cancellation_manager\u001b[39m=\u001b[39;49mcancellation_manager))\n\u001b[0;32m   1864\u001b[0m forward_backward \u001b[39m=\u001b[39m \u001b[39mself\u001b[39m\u001b[39m.\u001b[39m_select_forward_and_backward_functions(\n\u001b[0;32m   1865\u001b[0m     args,\n\u001b[0;32m   1866\u001b[0m     possible_gradient_type,\n\u001b[0;32m   1867\u001b[0m     executing_eagerly)\n\u001b[0;32m   1868\u001b[0m forward_function, args_with_tangents \u001b[39m=\u001b[39m forward_backward\u001b[39m.\u001b[39mforward()\n",
      "File \u001b[1;32mc:\\Users\\Celestial\\AppData\\Local\\Programs\\Python\\Python310\\lib\\site-packages\\tensorflow\\python\\eager\\function.py:499\u001b[0m, in \u001b[0;36m_EagerDefinedFunction.call\u001b[1;34m(self, ctx, args, cancellation_manager)\u001b[0m\n\u001b[0;32m    497\u001b[0m \u001b[39mwith\u001b[39;00m _InterpolateFunctionError(\u001b[39mself\u001b[39m):\n\u001b[0;32m    498\u001b[0m   \u001b[39mif\u001b[39;00m cancellation_manager \u001b[39mis\u001b[39;00m \u001b[39mNone\u001b[39;00m:\n\u001b[1;32m--> 499\u001b[0m     outputs \u001b[39m=\u001b[39m execute\u001b[39m.\u001b[39;49mexecute(\n\u001b[0;32m    500\u001b[0m         \u001b[39mstr\u001b[39;49m(\u001b[39mself\u001b[39;49m\u001b[39m.\u001b[39;49msignature\u001b[39m.\u001b[39;49mname),\n\u001b[0;32m    501\u001b[0m         num_outputs\u001b[39m=\u001b[39;49m\u001b[39mself\u001b[39;49m\u001b[39m.\u001b[39;49m_num_outputs,\n\u001b[0;32m    502\u001b[0m         inputs\u001b[39m=\u001b[39;49margs,\n\u001b[0;32m    503\u001b[0m         attrs\u001b[39m=\u001b[39;49mattrs,\n\u001b[0;32m    504\u001b[0m         ctx\u001b[39m=\u001b[39;49mctx)\n\u001b[0;32m    505\u001b[0m   \u001b[39melse\u001b[39;00m:\n\u001b[0;32m    506\u001b[0m     outputs \u001b[39m=\u001b[39m execute\u001b[39m.\u001b[39mexecute_with_cancellation(\n\u001b[0;32m    507\u001b[0m         \u001b[39mstr\u001b[39m(\u001b[39mself\u001b[39m\u001b[39m.\u001b[39msignature\u001b[39m.\u001b[39mname),\n\u001b[0;32m    508\u001b[0m         num_outputs\u001b[39m=\u001b[39m\u001b[39mself\u001b[39m\u001b[39m.\u001b[39m_num_outputs,\n\u001b[1;32m   (...)\u001b[0m\n\u001b[0;32m    511\u001b[0m         ctx\u001b[39m=\u001b[39mctx,\n\u001b[0;32m    512\u001b[0m         cancellation_manager\u001b[39m=\u001b[39mcancellation_manager)\n",
      "File \u001b[1;32mc:\\Users\\Celestial\\AppData\\Local\\Programs\\Python\\Python310\\lib\\site-packages\\tensorflow\\python\\eager\\execute.py:54\u001b[0m, in \u001b[0;36mquick_execute\u001b[1;34m(op_name, num_outputs, inputs, attrs, ctx, name)\u001b[0m\n\u001b[0;32m     52\u001b[0m \u001b[39mtry\u001b[39;00m:\n\u001b[0;32m     53\u001b[0m   ctx\u001b[39m.\u001b[39mensure_initialized()\n\u001b[1;32m---> 54\u001b[0m   tensors \u001b[39m=\u001b[39m pywrap_tfe\u001b[39m.\u001b[39;49mTFE_Py_Execute(ctx\u001b[39m.\u001b[39;49m_handle, device_name, op_name,\n\u001b[0;32m     55\u001b[0m                                       inputs, attrs, num_outputs)\n\u001b[0;32m     56\u001b[0m \u001b[39mexcept\u001b[39;00m core\u001b[39m.\u001b[39m_NotOkStatusException \u001b[39mas\u001b[39;00m e:\n\u001b[0;32m     57\u001b[0m   \u001b[39mif\u001b[39;00m name \u001b[39mis\u001b[39;00m \u001b[39mnot\u001b[39;00m \u001b[39mNone\u001b[39;00m:\n",
      "\u001b[1;31mKeyboardInterrupt\u001b[0m: "
     ]
    }
   ],
   "source": [
    "history = model.fit(x_train,y_train,epochs=30,validation_split=0.05)"
   ]
  },
  {
   "cell_type": "code",
   "execution_count": null,
   "metadata": {},
   "outputs": [],
   "source": [
    "alert()"
   ]
  },
  {
   "cell_type": "code",
   "execution_count": null,
   "metadata": {},
   "outputs": [],
   "source": [
    "classes"
   ]
  },
  {
   "cell_type": "code",
   "execution_count": null,
   "metadata": {},
   "outputs": [],
   "source": [
    "inp = 357\n",
    "\n",
    "print(model.predict(x_test[inp:inp+1]))\n",
    "print(classes[model.predict(x_test[inp:inp+1])[0].argmax()])\n",
    "print(classes[y_test[inp]])\n",
    "image_show(x_test[inp])\n"
   ]
  },
  {
   "cell_type": "code",
   "execution_count": null,
   "metadata": {},
   "outputs": [],
   "source": [
    "predkt = model.predict(x_test)"
   ]
  },
  {
   "cell_type": "code",
   "execution_count": null,
   "metadata": {},
   "outputs": [],
   "source": [
    "final_pred = []\n",
    "for i in predkt:\n",
    "    final_pred.append(i.argmax())\n",
    "    \n",
    "print(final_pred[:10])\n"
   ]
  },
  {
   "cell_type": "code",
   "execution_count": null,
   "metadata": {},
   "outputs": [],
   "source": [
    "ConfusionMatrixDisplay.from_predictions(y_test,np.array(final_pred),values_format='.0%',normalize='true')\n",
    "plt.show()\n",
    "print(pd.DataFrame([classes]))"
   ]
  }
 ],
 "metadata": {
  "kernelspec": {
   "display_name": "Python 3.10.8 64-bit",
   "language": "python",
   "name": "python3"
  },
  "language_info": {
   "codemirror_mode": {
    "name": "ipython",
    "version": 3
   },
   "file_extension": ".py",
   "mimetype": "text/x-python",
   "name": "python",
   "nbconvert_exporter": "python",
   "pygments_lexer": "ipython3",
   "version": "3.10.8"
  },
  "orig_nbformat": 4,
  "vscode": {
   "interpreter": {
    "hash": "99460fd9ebe2c20c1dcb6f43062bee5e5f97aeab87cb7e0eeae0ed01543a200e"
   }
  }
 },
 "nbformat": 4,
 "nbformat_minor": 2
}
