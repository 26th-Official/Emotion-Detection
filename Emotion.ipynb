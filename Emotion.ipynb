{
 "cells": [
  {
   "cell_type": "code",
   "execution_count": 1,
   "metadata": {},
   "outputs": [],
   "source": [
    "import os\n",
    "import json\n",
    "import random\n",
    "\n",
    "import numpy as np\n",
    "import matplotlib.pyplot as plt\n",
    "\n",
    "import pandas as pd\n",
    "from PIL import Image\n",
    "\n",
    "import cv2\n",
    "\n",
    "from sklearn.experimental import enable_halving_search_cv\n",
    "\n",
    "from sklearn.svm import SVC\n",
    "from sklearn.ensemble import RandomForestClassifier\n",
    "from sklearn.neighbors import KNeighborsClassifier\n",
    "\n",
    "\n",
    "\n",
    "from sklearn.model_selection import (train_test_split,cross_val_predict,cross_val_score\n",
    "                                     ,RandomizedSearchCV,GridSearchCV,HalvingGridSearchCV,HalvingRandomSearchCV)\n",
    "from sklearn.preprocessing import StandardScaler,OrdinalEncoder\n",
    "\n",
    "from sklearn.metrics import (f1_score,precision_recall_curve,precision_score\n",
    "                             ,recall_score,ConfusionMatrixDisplay,accuracy_score)\n",
    "\n",
    "from plyer import notification\n",
    "from discord import SyncWebhook\n",
    "\n",
    "\n",
    "import imgaug.augmenters as imaug\n",
    "\n",
    "import tensorflow as tf\n"
   ]
  },
  {
   "cell_type": "code",
   "execution_count": 2,
   "metadata": {},
   "outputs": [],
   "source": [
    "def alert(data=\"Execution Completed\"):\n",
    "    notification.notify(\n",
    "    title = \"Python\",\n",
    "    message = data,\n",
    "    timeout = 10\n",
    "    )\n",
    "    "
   ]
  },
  {
   "cell_type": "code",
   "execution_count": 3,
   "metadata": {},
   "outputs": [
    {
     "data": {
      "text/plain": [
       "['angry', 'disgusted', 'fearful', 'happy', 'neutral', 'sad', 'surprised']"
      ]
     },
     "execution_count": 3,
     "metadata": {},
     "output_type": "execute_result"
    }
   ],
   "source": [
    "test_dir = \"dataset/test/\"\n",
    "train_dir = \"dataset/train/\"\n",
    "\n",
    "classes = os.listdir(train_dir)\n",
    "classes"
   ]
  },
  {
   "cell_type": "code",
   "execution_count": 4,
   "metadata": {},
   "outputs": [],
   "source": [
    "def augument(data):\n",
    "    final_img = []\n",
    "    \n",
    "    final_img.append(data)\n",
    "    \n",
    "    augmentation = imaug.Sequential([\n",
    "        imaug.Affine(translate_percent={\"x\": (0.45, -0.45), \"y\": (-0.2, 0.2)},scale=(0.8,0.8)),\n",
    "    ])\n",
    "    a = augmentation(images = [data])\n",
    "    final_img.append(a[0])\n",
    "    \n",
    "    augmentation = imaug.Sequential([\n",
    "        imaug.Affine(scale=(0.8, 0.8),rotate=(45,45)),\n",
    "    ])\n",
    "    a = augmentation(images = [data])\n",
    "    final_img.append(a[0])\n",
    "\n",
    "    augmentation = imaug.Sequential([\n",
    "        imaug.Affine(scale=(0.8, 0.8),rotate=(45,45)),\n",
    "        imaug.Fliplr(1)\n",
    "    ])\n",
    "    a = augmentation(images = [data])\n",
    "    final_img.append(a[0])\n",
    "    \n",
    "    # augmentation = imaug.Sequential([\n",
    "    #     imaug.Affine(scale=(0.8, 0.8),rotate=(45,45)),\n",
    "    #     imaug.Fliplr(1),\n",
    "    #     imaug.Flipud(1)\n",
    "        \n",
    "    # ])\n",
    "    # a = augmentation(images = [data])\n",
    "    # final_img.append(a[0])\n",
    "    \n",
    "    # augmentation = imaug.Sequential([\n",
    "    #     imaug.Affine(scale=(0.8, 0.8),rotate=(45,45)),\n",
    "    #     imaug.Fliplr(0),\n",
    "    #     imaug.Flipud(1)\n",
    "        \n",
    "    # ])\n",
    "    # a = augmentation(images = [data])\n",
    "    # final_img.append(a[0])\n",
    "    \n",
    "    augmentation = imaug.Sequential([\n",
    "        imaug.Affine(scale=(0.8, 0.8)),\n",
    "        \n",
    "    ])\n",
    "    a = augmentation(images = [data])\n",
    "    final_img.append(a[0])\n",
    "    \n",
    "    \n",
    "    # augmentation = imaug.Sequential([\n",
    "    #     imaug.Affine(scale=(0.8, 0.8)),\n",
    "    #     imaug.Flipud(1),\n",
    "    #     imaug.Fliplr(1),\n",
    "    # ])\n",
    "    # a = augmentation(images = [data])\n",
    "    # final_img.append(a[0])\n",
    "        \n",
    "    \n",
    "    return final_img"
   ]
  },
  {
   "cell_type": "code",
   "execution_count": 5,
   "metadata": {},
   "outputs": [
    {
     "name": "stdout",
     "output_type": "stream",
     "text": [
      "{'angry': 3995}\n",
      "{'disgusted': 2180}\n",
      "{'fearful': 4097}\n",
      "{'happy': 7215}\n",
      "{'neutral': 4965}\n",
      "{'sad': 4830}\n",
      "{'surprised': 3171}\n",
      "(30453, 48, 48)\n"
     ]
    }
   ],
   "source": [
    "x_train = []\n",
    "y_train = []\n",
    "\n",
    "encoded_classes = [i for i in range(len(classes))]\n",
    "\n",
    "\n",
    "count = 0\n",
    "inc_count = 0\n",
    "\n",
    "for i in range(len(classes)):\n",
    "    datalist = os.listdir(train_dir+classes[i])\n",
    "    \n",
    "    if (len(datalist) > 500):\n",
    "        rand = random.sample(range(0,len(datalist)),500)\n",
    "        \n",
    "    for j in datalist:\n",
    "        data = np.asarray(Image.open(train_dir+classes[i]+\"/\"+j))\n",
    "        if (i==1):   \n",
    "            aug_data = augument(data)\n",
    "            for k in aug_data:\n",
    "                data_norm = cv2.normalize(k,None,0,1,cv2.NORM_MINMAX,dtype=cv2.CV_32F)\n",
    "                x_train.append(data_norm)\n",
    "                y_train.append(encoded_classes[i])\n",
    "                count += 1\n",
    "                \n",
    "        elif (i in [0,2]):\n",
    "            if (inc_count not in rand):\n",
    "                data_norm = cv2.normalize(data,None,0,1,cv2.NORM_MINMAX,dtype=cv2.CV_32F)\n",
    "                x_train.append(data_norm)\n",
    "                y_train.append(encoded_classes[i])\n",
    "                count += 1\n",
    "                inc_count += 1\n",
    "                \n",
    "            else:\n",
    "                augmentation = imaug.Sequential([\n",
    "                    imaug.Affine(scale=(0.8, 0.8)),\n",
    "                    \n",
    "                ])\n",
    "                aug_data = augmentation(images = [data])\n",
    "                \n",
    "                for k in aug_data:\n",
    "                    data_norm = cv2.normalize(k,None,0,1,cv2.NORM_MINMAX,dtype=cv2.CV_32F)\n",
    "                    x_train.append(data_norm)\n",
    "                    y_train.append(encoded_classes[i])\n",
    "                    count += 1\n",
    "                    inc_count += 1      \n",
    "                \n",
    "        else:\n",
    "            data_norm = cv2.normalize(data,None,0,1,cv2.NORM_MINMAX,dtype=cv2.CV_32F)\n",
    "            x_train.append(data_norm)\n",
    "            y_train.append(encoded_classes[i])\n",
    "            count += 1\n",
    "            \n",
    "            \n",
    "    print({classes[i]: count})\n",
    "    count = 0\n",
    "    inc_count = 0\n",
    "\n",
    "x_train = np.array(x_train)\n",
    "y_train = np.array(y_train)\n",
    "\n",
    "print(x_train.shape)\n"
   ]
  },
  {
   "cell_type": "code",
   "execution_count": 6,
   "metadata": {},
   "outputs": [],
   "source": [
    "def image_show(img):\n",
    "    data = img\n",
    "    plt.imshow(cv2.cvtColor(data,cv2.COLOR_BGR2RGB))\n",
    "    plt.show()"
   ]
  },
  {
   "cell_type": "code",
   "execution_count": 7,
   "metadata": {},
   "outputs": [
    {
     "data": {
      "image/png": "[encoded data removed]",
      "text/plain": [
       "<Figure size 640x480 with 1 Axes>"
      ]
     },
     "metadata": {},
     "output_type": "display_data"
    },
    {
     "name": "stdout",
     "output_type": "stream",
     "text": [
      "1324\n"
     ]
    }
   ],
   "source": [
    "image_show(x_train[1])\n",
    "print(x_train[0].argmax())"
   ]
  },
  {
   "cell_type": "code",
   "execution_count": 8,
   "metadata": {},
   "outputs": [],
   "source": [
    "x_train,x_test,y_train,y_test = train_test_split(x_train,y_train,test_size=0.1,random_state=30)"
   ]
  },
  {
   "cell_type": "code",
   "execution_count": 9,
   "metadata": {},
   "outputs": [
    {
     "name": "stdout",
     "output_type": "stream",
     "text": [
      "(27407, 48, 48)\n",
      "(27407,)\n",
      "(3046, 48, 48)\n",
      "(3046,)\n"
     ]
    }
   ],
   "source": [
    "print(x_train.shape)\n",
    "print(y_train.shape)\n",
    "print(x_test.shape)\n",
    "print(y_test.shape)"
   ]
  },
  {
   "cell_type": "code",
   "execution_count": 10,
   "metadata": {},
   "outputs": [],
   "source": [
    "# webhook = SyncWebhook.from_url(\"https://discord.com/api/webhooks/1063122746835472466/QWFwQkRFXRtRLa0j21nvMl2D7qQooBs3OiAun2SEwlwSFf0UegILx4SXKxKQ_Gq7FjEr\")\n",
    "# webhook.send(f\"Execution Complete => Precision_score - {pres_score}\")\n",
    "\n",
    "# alert(f\"Execution Complete => Precision_score - {pres_score}\")"
   ]
  },
  {
   "cell_type": "code",
   "execution_count": 11,
   "metadata": {},
   "outputs": [],
   "source": [
    "# for i in range(len(classes)):\n",
    "#     datalist = os.listdir(train_dir+classes[i])\n",
    "#     for j in datalist:\n",
    "#         count += 1\n",
    "#     # print({classes[i]: count})\n",
    "#     # count = 0\n",
    "    \n",
    "# print(count)\n",
    "        "
   ]
  },
  {
   "cell_type": "code",
   "execution_count": 12,
   "metadata": {},
   "outputs": [
    {
     "name": "stdout",
     "output_type": "stream",
     "text": [
      "['angry', 'disgusted', 'fearful', 'happy', 'neutral', 'sad', 'surprised']\n"
     ]
    }
   ],
   "source": [
    "print(classes)"
   ]
  },
  {
   "cell_type": "code",
   "execution_count": 13,
   "metadata": {},
   "outputs": [],
   "source": [
    "model = tf.keras.Sequential([\n",
    "    tf.keras.layers.Flatten(input_shape = [48,48]),\n",
    "\n",
    "    tf.keras.layers.Dense(400,activation=\"elu\",kernel_initializer='he_normal'),\n",
    "    tf.keras.layers.Dropout(rate=0.3),\n",
    "    \n",
    "    tf.keras.layers.Dense(300,activation=\"elu\",kernel_initializer='he_normal'),\n",
    "    tf.keras.layers.Dropout(rate=0.3),\n",
    "    \n",
    "    tf.keras.layers.Dense(200,activation=\"elu\",kernel_initializer='he_normal'),\n",
    "    tf.keras.layers.Dropout(rate=0.3),\n",
    "    \n",
    "    tf.keras.layers.Dense(7,activation=\"softmax\")\n",
    "])"
   ]
  },
  {
   "cell_type": "code",
   "execution_count": 14,
   "metadata": {},
   "outputs": [
    {
     "name": "stdout",
     "output_type": "stream",
     "text": [
      "Model: \"sequential\"\n",
      "_________________________________________________________________\n",
      " Layer (type)                Output Shape              Param #   \n",
      "=================================================================\n",
      " flatten (Flatten)           (None, 2304)              0         \n",
      "                                                                 \n",
      " dense (Dense)               (None, 400)               922000    \n",
      "                                                                 \n",
      " dropout (Dropout)           (None, 400)               0         \n",
      "                                                                 \n",
      " dense_1 (Dense)             (None, 300)               120300    \n",
      "                                                                 \n",
      " dropout_1 (Dropout)         (None, 300)               0         \n",
      "                                                                 \n",
      " dense_2 (Dense)             (None, 200)               60200     \n",
      "                                                                 \n",
      " dropout_2 (Dropout)         (None, 200)               0         \n",
      "                                                                 \n",
      " dense_3 (Dense)             (None, 7)                 1407      \n",
      "                                                                 \n",
      "=================================================================\n",
      "Total params: 1,103,907\n",
      "Trainable params: 1,103,907\n",
      "Non-trainable params: 0\n",
      "_________________________________________________________________\n"
     ]
    }
   ],
   "source": [
    "model.summary()"
   ]
  },
  {
   "cell_type": "code",
   "execution_count": 15,
   "metadata": {},
   "outputs": [],
   "source": [
    "# optimizers = tf.keras.optimizers.SGD(learning_rate=0.001,momentum=0.9)\n",
    "\n",
    "model.compile(loss=\"sparse_categorical_crossentropy\",optimizer=\"adam\" ,metrics=[\"accuracy\"])"
   ]
  },
  {
   "cell_type": "code",
   "execution_count": 16,
   "metadata": {},
   "outputs": [],
   "source": [
    "#3.46.9"
   ]
  },
  {
   "cell_type": "code",
   "execution_count": 17,
   "metadata": {},
   "outputs": [
    {
     "name": "stdout",
     "output_type": "stream",
     "text": [
      "Epoch 1/30\n",
      "814/814 [==============================] - 6s 6ms/step - loss: 2.0593 - accuracy: 0.2284 - val_loss: 1.7392 - val_accuracy: 0.2983\n",
      "Epoch 2/30\n",
      "814/814 [==============================] - 5s 6ms/step - loss: 1.7703 - accuracy: 0.2742 - val_loss: 1.6523 - val_accuracy: 0.3406\n",
      "Epoch 3/30\n",
      "814/814 [==============================] - 5s 6ms/step - loss: 1.6880 - accuracy: 0.3165 - val_loss: 1.5931 - val_accuracy: 0.3837\n",
      "Epoch 4/30\n",
      "814/814 [==============================] - 5s 6ms/step - loss: 1.6530 - accuracy: 0.3362 - val_loss: 1.5731 - val_accuracy: 0.3800\n",
      "Epoch 5/30\n",
      "814/814 [==============================] - 5s 6ms/step - loss: 1.6381 - accuracy: 0.3465 - val_loss: 1.6013 - val_accuracy: 0.3669\n",
      "Epoch 6/30\n",
      "814/814 [==============================] - 5s 6ms/step - loss: 1.6272 - accuracy: 0.3535 - val_loss: 1.5574 - val_accuracy: 0.3910\n",
      "Epoch 7/30\n",
      "814/814 [==============================] - 5s 6ms/step - loss: 1.6228 - accuracy: 0.3581 - val_loss: 1.6195 - val_accuracy: 0.3311\n",
      "Epoch 8/30\n",
      "814/814 [==============================] - 5s 6ms/step - loss: 1.6150 - accuracy: 0.3622 - val_loss: 1.5659 - val_accuracy: 0.4012\n",
      "Epoch 9/30\n",
      "814/814 [==============================] - 5s 6ms/step - loss: 1.6106 - accuracy: 0.3643 - val_loss: 1.5347 - val_accuracy: 0.3975\n",
      "Epoch 10/30\n",
      "814/814 [==============================] - 5s 6ms/step - loss: 1.6036 - accuracy: 0.3664 - val_loss: 1.5478 - val_accuracy: 0.4041\n",
      "Epoch 11/30\n",
      "814/814 [==============================] - 5s 6ms/step - loss: 1.5996 - accuracy: 0.3681 - val_loss: 1.5415 - val_accuracy: 0.3873\n",
      "Epoch 12/30\n",
      "814/814 [==============================] - 5s 6ms/step - loss: 1.5902 - accuracy: 0.3711 - val_loss: 1.5876 - val_accuracy: 0.3450\n",
      "Epoch 13/30\n",
      "814/814 [==============================] - 5s 6ms/step - loss: 1.5945 - accuracy: 0.3676 - val_loss: 1.5936 - val_accuracy: 0.3647\n",
      "Epoch 14/30\n",
      "814/814 [==============================] - 5s 6ms/step - loss: 1.5927 - accuracy: 0.3756 - val_loss: 1.5565 - val_accuracy: 0.3742\n",
      "Epoch 15/30\n",
      "814/814 [==============================] - 5s 6ms/step - loss: 1.5815 - accuracy: 0.3778 - val_loss: 1.5456 - val_accuracy: 0.3873\n",
      "Epoch 16/30\n",
      "814/814 [==============================] - 5s 6ms/step - loss: 1.5787 - accuracy: 0.3804 - val_loss: 1.5416 - val_accuracy: 0.3946\n",
      "Epoch 17/30\n",
      "814/814 [==============================] - 5s 6ms/step - loss: 1.5783 - accuracy: 0.3764 - val_loss: 1.5387 - val_accuracy: 0.4121\n",
      "Epoch 18/30\n",
      "814/814 [==============================] - 5s 6ms/step - loss: 1.5712 - accuracy: 0.3815 - val_loss: 1.5556 - val_accuracy: 0.3822\n",
      "Epoch 19/30\n",
      "814/814 [==============================] - 5s 6ms/step - loss: 1.5655 - accuracy: 0.3851 - val_loss: 1.5168 - val_accuracy: 0.4128\n",
      "Epoch 20/30\n",
      "814/814 [==============================] - 5s 6ms/step - loss: 1.5636 - accuracy: 0.3872 - val_loss: 1.5167 - val_accuracy: 0.4172\n",
      "Epoch 21/30\n",
      "814/814 [==============================] - 5s 6ms/step - loss: 1.5645 - accuracy: 0.3893 - val_loss: 1.5099 - val_accuracy: 0.4034\n",
      "Epoch 22/30\n",
      "814/814 [==============================] - 5s 6ms/step - loss: 1.5585 - accuracy: 0.3862 - val_loss: 1.5071 - val_accuracy: 0.3822\n",
      "Epoch 23/30\n",
      "814/814 [==============================] - 5s 6ms/step - loss: 1.5646 - accuracy: 0.3859 - val_loss: 1.5032 - val_accuracy: 0.4012\n",
      "Epoch 24/30\n",
      "814/814 [==============================] - 5s 6ms/step - loss: 1.5490 - accuracy: 0.3902 - val_loss: 1.4957 - val_accuracy: 0.4092\n",
      "Epoch 25/30\n",
      "814/814 [==============================] - 5s 6ms/step - loss: 1.5455 - accuracy: 0.3938 - val_loss: 1.4952 - val_accuracy: 0.4092\n",
      "Epoch 26/30\n",
      "814/814 [==============================] - 5s 6ms/step - loss: 1.5435 - accuracy: 0.3918 - val_loss: 1.5177 - val_accuracy: 0.4055\n",
      "Epoch 27/30\n",
      "814/814 [==============================] - 5s 6ms/step - loss: 1.5500 - accuracy: 0.3918 - val_loss: 1.5132 - val_accuracy: 0.3895\n",
      "Epoch 28/30\n",
      "814/814 [==============================] - 5s 6ms/step - loss: 1.5382 - accuracy: 0.3934 - val_loss: 1.4987 - val_accuracy: 0.4252\n",
      "Epoch 29/30\n",
      "814/814 [==============================] - 5s 6ms/step - loss: 1.5369 - accuracy: 0.3953 - val_loss: 1.5089 - val_accuracy: 0.4055\n",
      "Epoch 30/30\n",
      "814/814 [==============================] - 5s 6ms/step - loss: 1.5357 - accuracy: 0.3933 - val_loss: 1.4998 - val_accuracy: 0.3975\n"
     ]
    }
   ],
   "source": [
    "history = model.fit(x_train,y_train,epochs=30,validation_split=0.05)"
   ]
  },
  {
   "cell_type": "code",
   "execution_count": 18,
   "metadata": {},
   "outputs": [],
   "source": [
    "alert()"
   ]
  },
  {
   "cell_type": "code",
   "execution_count": 19,
   "metadata": {},
   "outputs": [
    {
     "name": "stdout",
     "output_type": "stream",
     "text": [
      "[2]\n"
     ]
    }
   ],
   "source": [
    "l = [1,2,3]\n",
    "print(l[1:2])"
   ]
  },
  {
   "cell_type": "code",
   "execution_count": 20,
   "metadata": {},
   "outputs": [
    {
     "data": {
      "text/plain": [
       "['angry', 'disgusted', 'fearful', 'happy', 'neutral', 'sad', 'surprised']"
      ]
     },
     "execution_count": 20,
     "metadata": {},
     "output_type": "execute_result"
    }
   ],
   "source": [
    "classes"
   ]
  },
  {
   "cell_type": "code",
   "execution_count": 21,
   "metadata": {},
   "outputs": [
    {
     "name": "stdout",
     "output_type": "stream",
     "text": [
      "1/1 [==============================] - 0s 85ms/step\n",
      "[[0.14295867 0.01047232 0.13043216 0.28831747 0.12903586 0.26073185\n",
      "  0.03805162]]\n",
      "1/1 [==============================] - 0s 24ms/step\n",
      "happy\n",
      "sad\n"
     ]
    },
    {
     "data": {
      "image/png": "[encoded data removed]",
      "text/plain": [
       "<Figure size 640x480 with 1 Axes>"
      ]
     },
     "metadata": {},
     "output_type": "display_data"
    }
   ],
   "source": [
    "inp = 357\n",
    "\n",
    "print(model.predict(x_test[inp:inp+1]))\n",
    "print(classes[model.predict(x_test[inp:inp+1])[0].argmax()])\n",
    "print(classes[y_test[inp]])\n",
    "image_show(x_test[inp])\n"
   ]
  },
  {
   "cell_type": "code",
   "execution_count": 22,
   "metadata": {},
   "outputs": [
    {
     "name": "stdout",
     "output_type": "stream",
     "text": [
      "96/96 [==============================] - 0s 2ms/step\n"
     ]
    }
   ],
   "source": [
    "predkt = model.predict(x_test)"
   ]
  },
  {
   "cell_type": "code",
   "execution_count": 23,
   "metadata": {},
   "outputs": [
    {
     "name": "stdout",
     "output_type": "stream",
     "text": [
      "[3, 1, 3, 3, 3, 5, 6, 1, 6, 3]\n"
     ]
    }
   ],
   "source": [
    "final_pred = []\n",
    "for i in predkt:\n",
    "    final_pred.append(i.argmax())\n",
    "    \n",
    "print(final_pred[:10])\n"
   ]
  },
  {
   "cell_type": "code",
   "execution_count": 24,
   "metadata": {},
   "outputs": [
    {
     "data": {
      "image/png": "[encoded data removed]",
      "text/plain": [
       "<Figure size 640x480 with 2 Axes>"
      ]
     },
     "metadata": {},
     "output_type": "display_data"
    },
    {
     "name": "stdout",
     "output_type": "stream",
     "text": [
      "       0          1        2      3        4    5          6\n",
      "0  angry  disgusted  fearful  happy  neutral  sad  surprised\n"
     ]
    }
   ],
   "source": [
    "ConfusionMatrixDisplay.from_predictions(y_test,np.array(final_pred),values_format='.0%',normalize='true')\n",
    "plt.show()\n",
    "print(pd.DataFrame([classes]))"
   ]
  }
 ],
 "metadata": {
  "kernelspec": {
   "display_name": "Python 3.8.10 64-bit",
   "language": "python",
   "name": "python3"
  },
  "language_info": {
   "codemirror_mode": {
    "name": "ipython",
    "version": 3
   },
   "file_extension": ".py",
   "mimetype": "text/x-python",
   "name": "python",
   "nbconvert_exporter": "python",
   "pygments_lexer": "ipython3",
   "version": "3.8.10"
  },
  "orig_nbformat": 4,
  "vscode": {
   "interpreter": {
    "hash": "c0b8fc9812d47bfcd376dbcb9670b7e942d09aacac084188ded197851bb1b150"
   }
  }
 },
 "nbformat": 4,
 "nbformat_minor": 2
}
